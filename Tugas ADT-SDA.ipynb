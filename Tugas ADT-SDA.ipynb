{
  "nbformat": 4,
  "nbformat_minor": 0,
  "metadata": {
    "colab": {
      "name": "Untitled3.ipynb",
      "provenance": [],
      "collapsed_sections": []
    },
    "kernelspec": {
      "name": "python3",
      "display_name": "Python 3"
    },
    "language_info": {
      "name": "python"
    }
  },
  "cells": [
    {
      "cell_type": "code",
      "execution_count": 5,
      "metadata": {
        "colab": {
          "base_uri": "https://localhost:8080/"
        },
        "id": "CGsySxf3O4R-",
        "outputId": "85679541-b853-4fef-911a-3345b63624fe"
      },
      "outputs": [
        {
          "output_type": "stream",
          "name": "stdout",
          "text": [
            "TOKO LOVE and AFFECTION\n",
            "Nama Kasir : Ningrum\n",
            "Pembeli: Rafa\n",
            "Total belanja Rp.110000\n",
            "Selamat Anda Mendapatkan Diskon 30%\n",
            "Total belanja anda , Rp. 110000\n",
            "Potongan haga, Rp, 33000.0\n",
            "Anda cukup bayar, Rp. 77000.0\n",
            "TERIMA KASIH SUDAH BELANJA:)\n"
          ]
        }
      ],
      "source": [
        "#Abstract Data Types \n",
        "\n",
        "print('TOKO LOVE and AFFECTION')\n",
        "print('Nama Kasir : Ningrum')\n",
        "print('Pembeli: Rafa')\n",
        "belanja = int(input('Total belanja Rp.'))\n",
        "if belanja < 75000 :\n",
        "   diskon = belanja *10/100\n",
        "   print ('Selamat Anda Mendapatkan Diskon 10%')\n",
        "elif belanja < 100000 :\n",
        "   diskon = belanja *20/100\n",
        "   print ('Selamat Anda Mendapatkan Diskon 20%')\n",
        "else :\n",
        "   diskon = belanja *30/100\n",
        "   print ('Selamat Anda Mendapatkan Diskon 30%')\n",
        "  \n",
        "bayar = belanja - diskon\n",
        "print('Total belanja anda , Rp.', belanja)\n",
        "print('Potongan haga, Rp,', diskon)\n",
        "print('Anda cukup bayar, Rp.', bayar)\n",
        "print('TERIMA KASIH SUDAH BELANJA:)')"
      ]
    }
  ]
}